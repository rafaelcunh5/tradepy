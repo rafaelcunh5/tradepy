{
 "cells": [
  {
   "cell_type": "markdown",
   "id": "35e113f3",
   "metadata": {},
   "source": [
    "# Como criar uma estratégia de trading com Python\n",
    "\n",
    "### Indicador usado: RSI\n",
    "\n",
    "### Estratégia:\n",
    "\n",
    "Vamos comprar a ação sempre que o RSI for menor do que 30.\n",
    "\n",
    "Será que dá dinheiro?"
   ]
  },
  {
   "cell_type": "markdown",
   "id": "8cddce2d",
   "metadata": {},
   "source": [
    "# Passo a Passo:\n",
    "\n",
    "\n",
    "* Passo 1: Escolher um ativo.\n",
    "* Passo 2: Puxar os dados de cotações no Yahoo finance.\n",
    "* Passo 3: Calcular os retornos positivos e negativos.\n",
    "* Passo 4: Separar os retornos positivos dos negativos.\n",
    "* Passo 5: Calcular a média dos retornos positivos e negativos nos últimos 22 dias\n",
    "* Passo 6: Calcular o RSI\n",
    "* Passo 7: Gerar os sinais de compra ou venda\n",
    "* Passo 8: Observando pontos de compra ao longo do tempo\n",
    "* Passo 9: Calculando lucros\n",
    "* Passo 10: Analisando lucros\n",
    "<br>\n",
    "\n",
    "    * Qual a média de lucros?\n",
    "    * Qual a média de perdas?\n",
    "    * Qual a % de operações vencedoras?\n",
    "    * Qual expectativa matemática do modelo?\n",
    "    * Qual retorno acumulado?\n",
    "    * O retorno acumulado venceu o Buy and Hold na ação?\n",
    "\n",
    "\n",
    "### Fórmula RSI:\n",
    "\n",
    "$100 - 100/(1 + mediaRetornosPositivos / mediaRetornosNegativos)$"
   ]
  },
  {
   "cell_type": "code",
   "execution_count": null,
   "id": "5841ef62",
   "metadata": {},
   "outputs": [],
   "source": [
    "import pandas as pd\n",
    "import yfinance as yf\n",
    "import matplotlib.pyplot as plt\n",
    "import numpy as np\n",
    "\n",
    "pd.options.mode.chained_assignment = None"
   ]
  },
  {
   "cell_type": "markdown",
   "id": "363f4f13",
   "metadata": {},
   "source": [
    "# Passo 1: Escolher um ativo"
   ]
  },
  {
   "cell_type": "code",
   "execution_count": null,
   "id": "88909c8f",
   "metadata": {},
   "outputs": [],
   "source": [
    "ativo = 'PETR4.SA'"
   ]
  },
  {
   "cell_type": "markdown",
   "id": "612a8d98",
   "metadata": {},
   "source": [
    "# Passo 2: Puxar os dados do Yahoo Finance"
   ]
  },
  {
   "cell_type": "code",
   "execution_count": null,
   "id": "7bca4b88",
   "metadata": {},
   "outputs": [],
   "source": [
    "dados_ativo = yf.download(ativo)\n",
    "\n",
    "dados_ativo\n",
    "\n",
    "#tome cuidado com ações muito antigas! As vezes vão ter os dados mas com volume zero. \n",
    "#Pegue um período que tenha volume "
   ]
  },
  {
   "cell_type": "code",
   "execution_count": null,
   "id": "e2f889b1",
   "metadata": {},
   "outputs": [],
   "source": [
    "dados_ativo['Adj Close'].plot()"
   ]
  },
  {
   "cell_type": "markdown",
   "id": "45730b55",
   "metadata": {},
   "source": [
    "# Passo 3: Calcular os retornos"
   ]
  },
  {
   "cell_type": "code",
   "execution_count": null,
   "id": "16e4a25d",
   "metadata": {},
   "outputs": [],
   "source": [
    "dados_ativo['retornos'] = dados_ativo['Adj Close'].pct_change().dropna() \n",
    "\n",
    "dados_ativo"
   ]
  },
  {
   "cell_type": "markdown",
   "id": "d9d5cf13",
   "metadata": {},
   "source": [
    "# Passo 4: Separar os retornos positivos dos negativos"
   ]
  },
  {
   "cell_type": "code",
   "execution_count": null,
   "id": "de478199",
   "metadata": {},
   "outputs": [],
   "source": [
    "retorno = 2\n",
    "\n",
    "filtrando_retorno = lambda x: x if x > 0 else 0\n",
    "\n",
    "filtrando_retorno(retorno)"
   ]
  },
  {
   "cell_type": "code",
   "execution_count": null,
   "id": "31ae06cb",
   "metadata": {},
   "outputs": [],
   "source": [
    "dados_ativo['retornos_postivos'] = dados_ativo['retornos'].apply(lambda x: x if x > 0 else 0)\n",
    "dados_ativo['retornos_negativos'] = dados_ativo['retornos'].apply(lambda x: abs(x) if x < 0 else 0)\n",
    "\n",
    "dados_ativo"
   ]
  },
  {
   "cell_type": "markdown",
   "id": "61772f3e",
   "metadata": {},
   "source": [
    "# Passo 5: Calcular a média de retornos positivos e negativos dos últimos 22 dias "
   ]
  },
  {
   "cell_type": "code",
   "execution_count": null,
   "id": "b3b2ef77",
   "metadata": {},
   "outputs": [],
   "source": [
    "dados_ativo['media_retornos_positivos'] = dados_ativo['retornos_postivos'].rolling(window = 22).mean()\n",
    "dados_ativo['media_retornos_negativos'] = dados_ativo['retornos_negativos'].rolling(window = 22).mean()\n",
    "\n",
    "dados_ativo = dados_ativo.dropna()\n",
    "\n",
    "dados_ativo"
   ]
  },
  {
   "cell_type": "markdown",
   "id": "f79187e2",
   "metadata": {},
   "source": [
    "# Passo 6: Calcular o RSI \n",
    "\n",
    "### Fórmula RSI:\n",
    "\n",
    "$100 - 100/(1 + mediaRetornosPositivos / mediaRetornosNegativos)$"
   ]
  },
  {
   "cell_type": "code",
   "execution_count": null,
   "id": "00e7ee3a",
   "metadata": {},
   "outputs": [],
   "source": [
    "dados_ativo['RSI'] = (100 - 100/\n",
    "                        (1 + dados_ativo['media_retornos_positivos']/dados_ativo['media_retornos_negativos']))\n",
    "\n",
    "dados_ativo.head(50)"
   ]
  },
  {
   "cell_type": "markdown",
   "id": "8a4a3663",
   "metadata": {},
   "source": [
    "# Passo 7: Sinais de compra ou venda"
   ]
  },
  {
   "cell_type": "code",
   "execution_count": null,
   "id": "95b58a77",
   "metadata": {},
   "outputs": [],
   "source": [
    "dados_ativo.loc[dados_ativo['RSI'] < 30, 'compra'] = 'sim'\n",
    "dados_ativo.loc[dados_ativo['RSI'] > 30, 'compra'] = 'nao'\n",
    "\n",
    "dados_ativo"
   ]
  },
  {
   "cell_type": "code",
   "execution_count": null,
   "id": "f5f7df42",
   "metadata": {},
   "outputs": [],
   "source": [
    "datas_compra = []\n",
    "datas_venda = []\n",
    "\n",
    "for i in range(len(dados_ativo)):\n",
    "    print(i)\n",
    "    \n",
    "    if \"sim\" in dados_ativo['compra'].iloc[i]:\n",
    "        \n",
    "        datas_compra.append(dados_ativo.iloc[i+1].name)\n",
    "        \n",
    "datas_compra"
   ]
  },
  {
   "cell_type": "markdown",
   "id": "1dc26117",
   "metadata": {},
   "source": [
    "# A gente vai ter 2 stops de venda:\n",
    "\n",
    "* RSI acima de 40\n",
    "* 10 dias de operação"
   ]
  },
  {
   "cell_type": "code",
   "execution_count": null,
   "id": "69382ddb",
   "metadata": {},
   "outputs": [],
   "source": [
    "data_compra = []\n",
    "data_venda = []\n",
    "\n",
    "for i in range(len(dados_ativo)):\n",
    "    \n",
    "    if \"sim\" in dados_ativo['compra'].iloc[i]:\n",
    "        \n",
    "        data_compra.append(dados_ativo.iloc[i+1].name) # +1 porque a gente compra no preço de abertura do dia seguinte.\n",
    "        \n",
    "        for j in range(1, 11):\n",
    "            \n",
    "            if dados_ativo['RSI'].iloc[i + j] > 40: #vendo se nos proximos 10 dias o RSI passa de 40\n",
    "                \n",
    "                data_venda.append(dados_ativo.iloc[i + j + 1].name) #vende no dia seguinte q bater 40\n",
    "                break\n",
    "                \n",
    "            elif j == 10:\n",
    "                data_venda.append(dados_ativo.iloc[i + j + 1].name)\n",
    "                \n",
    "                \n",
    "        \n",
    "data_venda"
   ]
  },
  {
   "cell_type": "markdown",
   "id": "08fbd65c",
   "metadata": {},
   "source": [
    "# Passo 8: Observando pontos de compra ao longo do tempo"
   ]
  },
  {
   "cell_type": "code",
   "execution_count": null,
   "id": "ce70cc4c",
   "metadata": {},
   "outputs": [],
   "source": [
    "plt.figure(figsize = (12, 5))\n",
    "plt.scatter(dados_ativo.loc[data_compra].index, dados_ativo.loc[data_compra]['Adj Close'], marker = '^',\n",
    "            c = 'g')\n",
    "plt.plot(dados_ativo['Adj Close'], alpha = 0.7)"
   ]
  },
  {
   "cell_type": "markdown",
   "id": "12246a83",
   "metadata": {},
   "source": [
    "# Passo 9: Calculando lucros"
   ]
  },
  {
   "cell_type": "code",
   "execution_count": null,
   "id": "65b742cd",
   "metadata": {},
   "outputs": [],
   "source": [
    "lucros = dados_ativo.loc[data_venda]['Open'].values/dados_ativo.loc[data_compra]['Open'].values - 1\n",
    "\n",
    "lucros"
   ]
  },
  {
   "cell_type": "markdown",
   "id": "eb95ff02",
   "metadata": {},
   "source": [
    "# Passo 10: Analisando lucros\n",
    "\n",
    "\n",
    "* Qual a média de lucros?\n",
    "* Qual a média de perdas?\n",
    "* Qual a % de operações vencedoras?\n",
    "* Qual expectativa matemática do modelo?\n",
    "* Qual retorno acumulado?\n",
    "* O retorno acumulado venceu o Buy and Hold na ação?"
   ]
  },
  {
   "cell_type": "code",
   "execution_count": null,
   "id": "a96dfd10",
   "metadata": {},
   "outputs": [],
   "source": [
    "operacoes_vencedoras = len(lucros[lucros > 0])/len(lucros)\n",
    "\n",
    "operacoes_vencedoras"
   ]
  },
  {
   "cell_type": "code",
   "execution_count": null,
   "id": "e3bd365f",
   "metadata": {},
   "outputs": [],
   "source": [
    "media_ganhos = np.mean(lucros[lucros > 0])\n",
    "\n",
    "media_ganhos * 100"
   ]
  },
  {
   "cell_type": "code",
   "execution_count": null,
   "id": "7e484433",
   "metadata": {},
   "outputs": [],
   "source": [
    "media_perdas = abs(np.mean(lucros[lucros < 0]))\n",
    "\n",
    "media_perdas"
   ]
  },
  {
   "cell_type": "code",
   "execution_count": null,
   "id": "08bc1f44",
   "metadata": {},
   "outputs": [],
   "source": [
    "expectativa_matematica_modelo = (operacoes_vencedoras * media_ganhos) - ((1 - operacoes_vencedoras) * media_perdas)\n",
    "\n",
    "expectativa_matematica_modelo * 100"
   ]
  },
  {
   "cell_type": "code",
   "execution_count": null,
   "id": "c95e4cb4",
   "metadata": {},
   "outputs": [],
   "source": [
    "performance_acumulada = (np.cumprod((1 + lucros)) - 1) \n",
    "\n",
    "performance_acumulada * 100"
   ]
  },
  {
   "cell_type": "code",
   "execution_count": null,
   "id": "09212004",
   "metadata": {},
   "outputs": [],
   "source": [
    "plt.figure(figsize = (12, 5))\n",
    "plt.plot(data_compra, performance_acumulada)"
   ]
  },
  {
   "cell_type": "code",
   "execution_count": null,
   "id": "be741de8",
   "metadata": {},
   "outputs": [],
   "source": [
    "retorno_buy_and_hold = dados_ativo['Adj Close'].iloc[-1]/dados_ativo['Adj Close'].iloc[0] - 1\n",
    "\n",
    "retorno_buy_and_hold * 100"
   ]
  },
  {
   "cell_type": "code",
   "execution_count": null,
   "id": "b5e17b7e",
   "metadata": {},
   "outputs": [],
   "source": []
  },
  {
   "cell_type": "code",
   "execution_count": null,
   "id": "4b3649e1",
   "metadata": {},
   "outputs": [],
   "source": []
  },
  {
   "cell_type": "code",
   "execution_count": null,
   "id": "e1e2709c",
   "metadata": {},
   "outputs": [],
   "source": []
  },
  {
   "cell_type": "code",
   "execution_count": null,
   "id": "d48e13cb",
   "metadata": {},
   "outputs": [],
   "source": []
  },
  {
   "cell_type": "code",
   "execution_count": null,
   "id": "f23dea98",
   "metadata": {},
   "outputs": [],
   "source": []
  },
  {
   "cell_type": "code",
   "execution_count": null,
   "id": "d2dcd03f",
   "metadata": {},
   "outputs": [],
   "source": []
  },
  {
   "cell_type": "code",
   "execution_count": null,
   "id": "c74c485d",
   "metadata": {},
   "outputs": [],
   "source": []
  },
  {
   "cell_type": "code",
   "execution_count": null,
   "id": "6da626f4",
   "metadata": {},
   "outputs": [],
   "source": []
  },
  {
   "cell_type": "code",
   "execution_count": null,
   "id": "63c25d5d",
   "metadata": {},
   "outputs": [],
   "source": []
  },
  {
   "cell_type": "code",
   "execution_count": null,
   "id": "b245759d",
   "metadata": {},
   "outputs": [],
   "source": []
  }
 ],
 "metadata": {
  "kernelspec": {
   "display_name": "Python 3 (ipykernel)",
   "language": "python",
   "name": "python3"
  },
  "language_info": {
   "codemirror_mode": {
    "name": "ipython",
    "version": 3
   },
   "file_extension": ".py",
   "mimetype": "text/x-python",
   "name": "python",
   "nbconvert_exporter": "python",
   "pygments_lexer": "ipython3",
   "version": "3.9.12"
  }
 },
 "nbformat": 4,
 "nbformat_minor": 5
}
